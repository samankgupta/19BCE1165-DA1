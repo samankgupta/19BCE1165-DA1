{
 "cells": [
  {
   "cell_type": "markdown",
   "metadata": {
    "id": "OPY9kYbpsFuB"
   },
   "source": [
    "# CSE4022 Natural Language Processing\n",
    "\n",
    "# Digital Assignment - 1\n",
    "\n",
    "# Samank Gupta (19BCE1165)"
   ]
  },
  {
   "cell_type": "markdown",
   "metadata": {
    "id": "UwUPrK6XscYj"
   },
   "source": [
    "## 1.\tUtilize Python NLTK (Natural Language Tool Kit) Platform and do the following. Install relevant Packages and Libraries.\n",
    "\n",
    "### Explore Brown Corpus and find the size, tokens, categories."
   ]
  },
  {
   "cell_type": "code",
   "execution_count": 5,
   "metadata": {
    "colab": {
     "base_uri": "https://localhost:8080/"
    },
    "id": "pjmRLSjrsRNn",
    "outputId": "a14d665f-88b4-4647-ec94-963568c26959"
   },
   "outputs": [
    {
     "name": "stderr",
     "output_type": "stream",
     "text": [
      "[nltk_data] Downloading package brown to\n",
      "[nltk_data]     C:\\Users\\saman\\AppData\\Roaming\\nltk_data...\n",
      "[nltk_data]   Unzipping corpora\\brown.zip.\n"
     ]
    },
    {
     "data": {
      "text/plain": [
       "True"
      ]
     },
     "execution_count": 5,
     "metadata": {},
     "output_type": "execute_result"
    }
   ],
   "source": [
    "import nltk\n",
    "nltk.download('brown')"
   ]
  },
  {
   "cell_type": "code",
   "execution_count": 6,
   "metadata": {},
   "outputs": [
    {
     "data": {
      "text/plain": [
       "['The', 'Fulton', 'County', 'Grand', 'Jury', 'said', ...]"
      ]
     },
     "execution_count": 6,
     "metadata": {},
     "output_type": "execute_result"
    }
   ],
   "source": [
    "from nltk.corpus import brown\n",
    "\n",
    "brown.words()"
   ]
  },
  {
   "cell_type": "code",
   "execution_count": 7,
   "metadata": {
    "colab": {
     "base_uri": "https://localhost:8080/"
    },
    "id": "dUSOUTM7uWs0",
    "outputId": "81c60c12-e2bf-48ce-eadf-1fe9f93d1e92"
   },
   "outputs": [
    {
     "data": {
      "text/plain": [
       "1161192"
      ]
     },
     "execution_count": 7,
     "metadata": {},
     "output_type": "execute_result"
    }
   ],
   "source": [
    "len(brown.words())"
   ]
  },
  {
   "cell_type": "code",
   "execution_count": 8,
   "metadata": {
    "colab": {
     "base_uri": "https://localhost:8080/"
    },
    "id": "Khl4_vLZupQ_",
    "outputId": "945962a0-c852-4e93-9c65-d69e80e4bca0",
    "scrolled": true
   },
   "outputs": [
    {
     "data": {
      "text/plain": [
       "['adventure',\n",
       " 'belles_lettres',\n",
       " 'editorial',\n",
       " 'fiction',\n",
       " 'government',\n",
       " 'hobbies',\n",
       " 'humor',\n",
       " 'learned',\n",
       " 'lore',\n",
       " 'mystery',\n",
       " 'news',\n",
       " 'religion',\n",
       " 'reviews',\n",
       " 'romance',\n",
       " 'science_fiction']"
      ]
     },
     "execution_count": 8,
     "metadata": {},
     "output_type": "execute_result"
    }
   ],
   "source": [
    "brown.categories()"
   ]
  },
  {
   "cell_type": "markdown",
   "metadata": {
    "id": "GIOBhGJjurLG"
   },
   "source": [
    "### Find the size of word tokens?"
   ]
  },
  {
   "cell_type": "code",
   "execution_count": 13,
   "metadata": {
    "colab": {
     "base_uri": "https://localhost:8080/"
    },
    "id": "DBhSG_8S43Gj",
    "outputId": "c7abf4c9-8cb8-41f5-8ac8-71c8231bd013"
   },
   "outputs": [
    {
     "data": {
      "text/plain": [
       "1161192"
      ]
     },
     "execution_count": 13,
     "metadata": {},
     "output_type": "execute_result"
    }
   ],
   "source": [
    "len(brown.words())"
   ]
  },
  {
   "cell_type": "markdown",
   "metadata": {
    "id": "Hkbz7qdXGA3l"
   },
   "source": [
    "#### Size of each token"
   ]
  },
  {
   "cell_type": "code",
   "execution_count": 14,
   "metadata": {
    "colab": {
     "base_uri": "https://localhost:8080/"
    },
    "id": "8Buva5S-vBDg",
    "outputId": "8cfa5013-79eb-4f6b-e9b3-4a8d13fe3154"
   },
   "outputs": [
    {
     "name": "stdout",
     "output_type": "stream",
     "text": [
      "3\n",
      "6\n",
      "6\n",
      "5\n",
      "4\n",
      "4\n",
      "6\n",
      "2\n",
      "13\n",
      "2\n",
      "9\n",
      "6\n",
      "7\n",
      "8\n",
      "8\n",
      "2\n",
      "2\n",
      "8\n",
      "2\n",
      "4\n"
     ]
    }
   ],
   "source": [
    "for x in brown.words()[:20]:\n",
    "  print(len(x))"
   ]
  },
  {
   "cell_type": "markdown",
   "metadata": {
    "id": "1Z9qYd7ayMPG"
   },
   "source": [
    "### Find the size of word types?"
   ]
  },
  {
   "cell_type": "code",
   "execution_count": 15,
   "metadata": {
    "colab": {
     "base_uri": "https://localhost:8080/"
    },
    "id": "cLauXID3vjEG",
    "outputId": "2d4444f4-9b6a-414b-e438-305575c1488c"
   },
   "outputs": [
    {
     "data": {
      "text/plain": [
       "15"
      ]
     },
     "execution_count": 15,
     "metadata": {},
     "output_type": "execute_result"
    }
   ],
   "source": [
    "len(brown.categories())"
   ]
  },
  {
   "cell_type": "markdown",
   "metadata": {
    "id": "pJ3yRtRiyPEK"
   },
   "source": [
    "### Find the size of category \"government\""
   ]
  },
  {
   "cell_type": "code",
   "execution_count": 16,
   "metadata": {
    "colab": {
     "base_uri": "https://localhost:8080/"
    },
    "id": "w88p17YDyTJD",
    "outputId": "6d3dd4ab-51a9-4591-c473-2645d08e99da"
   },
   "outputs": [
    {
     "data": {
      "text/plain": [
       "70117"
      ]
     },
     "execution_count": 16,
     "metadata": {},
     "output_type": "execute_result"
    }
   ],
   "source": [
    "len(brown.words(categories='government'))"
   ]
  },
  {
   "cell_type": "markdown",
   "metadata": {
    "id": "Ew9J9lsH28h9"
   },
   "source": [
    "### List the most frequent tokens"
   ]
  },
  {
   "cell_type": "code",
   "execution_count": 18,
   "metadata": {
    "colab": {
     "base_uri": "https://localhost:8080/"
    },
    "id": "V2Ul9ZKq3Dsa",
    "outputId": "6986ae92-4588-4bc0-f09d-3ef012e64b95"
   },
   "outputs": [
    {
     "data": {
      "text/plain": [
       "[('the', 62713), (',', 58334), ('.', 49346), ('of', 36080), ('and', 27915)]"
      ]
     },
     "execution_count": 18,
     "metadata": {},
     "output_type": "execute_result"
    }
   ],
   "source": [
    "from nltk import FreqDist\n",
    "fdist = FreqDist(brown.words())\n",
    "fdist.most_common(5)"
   ]
  },
  {
   "cell_type": "markdown",
   "metadata": {
    "id": "Z6LWf6bR3bjP"
   },
   "source": [
    "### Count the number of sentences"
   ]
  },
  {
   "cell_type": "code",
   "execution_count": 19,
   "metadata": {
    "colab": {
     "base_uri": "https://localhost:8080/"
    },
    "id": "RGARlVc03i2D",
    "outputId": "d9dd6459-2e4d-4dd9-e6f6-400b0b98af0d"
   },
   "outputs": [
    {
     "data": {
      "text/plain": [
       "57340"
      ]
     },
     "execution_count": 19,
     "metadata": {},
     "output_type": "execute_result"
    }
   ],
   "source": [
    "len(brown.sents())"
   ]
  },
  {
   "cell_type": "markdown",
   "metadata": {
    "id": "eQeoCRWT31_o"
   },
   "source": [
    "## 2.\tExplore the corpora available in NLTK                                                          "
   ]
  },
  {
   "cell_type": "markdown",
   "metadata": {
    "id": "HiN8Yhfvhnqj"
   },
   "source": [
    "### Indian Corpus"
   ]
  },
  {
   "cell_type": "code",
   "execution_count": 23,
   "metadata": {
    "colab": {
     "base_uri": "https://localhost:8080/"
    },
    "id": "1LQJL6EBkXR4",
    "outputId": "27ff4dcd-76e1-43bf-a75b-f8c6bd50c72a",
    "scrolled": true
   },
   "outputs": [
    {
     "name": "stderr",
     "output_type": "stream",
     "text": [
      "[nltk_data] Downloading package indian to\n",
      "[nltk_data]     C:\\Users\\saman\\AppData\\Roaming\\nltk_data...\n",
      "[nltk_data]   Unzipping corpora\\indian.zip.\n"
     ]
    },
    {
     "data": {
      "text/plain": [
       "True"
      ]
     },
     "execution_count": 23,
     "metadata": {},
     "output_type": "execute_result"
    }
   ],
   "source": [
    "import nltk\n",
    "nltk.download(\"indian\")"
   ]
  },
  {
   "cell_type": "code",
   "execution_count": 24,
   "metadata": {
    "id": "JSyV3zXdlBUX"
   },
   "outputs": [],
   "source": [
    "from nltk.corpus import indian"
   ]
  },
  {
   "cell_type": "code",
   "execution_count": 25,
   "metadata": {
    "colab": {
     "base_uri": "https://localhost:8080/"
    },
    "id": "EHqnRd1xkuaU",
    "outputId": "0008a12c-bc2a-4d08-c08c-6086b20dca96"
   },
   "outputs": [
    {
     "name": "stdout",
     "output_type": "stream",
     "text": [
      "['पूर्ण', 'प्रतिबंध', 'हटाओ', ':', 'इराक', 'संयुक्त', ...]\n"
     ]
    }
   ],
   "source": [
    "print(nltk.corpus.indian.words('hindi.pos'))"
   ]
  },
  {
   "cell_type": "code",
   "execution_count": 26,
   "metadata": {
    "colab": {
     "base_uri": "https://localhost:8080/"
    },
    "id": "q7jCmD23lSTd",
    "outputId": "344bd54e-0512-472e-a12a-5ea06e73ef1f"
   },
   "outputs": [
    {
     "data": {
      "text/plain": [
       "['bangla.pos', 'hindi.pos', 'marathi.pos', 'telugu.pos']"
      ]
     },
     "execution_count": 26,
     "metadata": {},
     "output_type": "execute_result"
    }
   ],
   "source": [
    "indian.fileids()"
   ]
  },
  {
   "cell_type": "code",
   "execution_count": 27,
   "metadata": {
    "colab": {
     "base_uri": "https://localhost:8080/"
    },
    "id": "CrTM6u5llUwT",
    "outputId": "86c6d029-549d-479b-91eb-b91d350e4568"
   },
   "outputs": [
    {
     "data": {
      "text/plain": [
       "[\"''\", 'सनातनवाद्यांनी', 'व', 'प्रतिगाम्यांनी', 'समाज', ...]"
      ]
     },
     "execution_count": 27,
     "metadata": {},
     "output_type": "execute_result"
    }
   ],
   "source": [
    "indian.words(\"marathi.pos\")"
   ]
  },
  {
   "cell_type": "code",
   "execution_count": 28,
   "metadata": {
    "colab": {
     "base_uri": "https://localhost:8080/"
    },
    "id": "ihJD1V-WlO5E",
    "outputId": "ed904b3d-da28-4465-c473-478f0f3b23d1"
   },
   "outputs": [
    {
     "data": {
      "text/plain": [
       "['মহিষের', 'সন্তান', ':', 'তোড়া', 'উপজাতি', '৷', ...]"
      ]
     },
     "execution_count": 28,
     "metadata": {},
     "output_type": "execute_result"
    }
   ],
   "source": [
    "indian.words()"
   ]
  },
  {
   "cell_type": "code",
   "execution_count": 29,
   "metadata": {
    "colab": {
     "base_uri": "https://localhost:8080/"
    },
    "id": "7dqyOFKbk9PC",
    "outputId": "fd87f7a1-e72a-472b-fe5d-3f5e33dcd21e"
   },
   "outputs": [
    {
     "data": {
      "text/plain": [
       "48754"
      ]
     },
     "execution_count": 29,
     "metadata": {},
     "output_type": "execute_result"
    }
   ],
   "source": [
    "len(indian.words())"
   ]
  },
  {
   "cell_type": "markdown",
   "metadata": {},
   "source": [
    "### Gutenberg Corpus"
   ]
  },
  {
   "cell_type": "code",
   "execution_count": 45,
   "metadata": {},
   "outputs": [
    {
     "name": "stderr",
     "output_type": "stream",
     "text": [
      "[nltk_data] Downloading package gutenberg to\n",
      "[nltk_data]     C:\\Users\\saman\\AppData\\Roaming\\nltk_data...\n",
      "[nltk_data]   Unzipping corpora\\gutenberg.zip.\n"
     ]
    },
    {
     "data": {
      "text/plain": [
       "True"
      ]
     },
     "execution_count": 45,
     "metadata": {},
     "output_type": "execute_result"
    }
   ],
   "source": [
    "import nltk\n",
    "nltk.download('gutenberg')"
   ]
  },
  {
   "cell_type": "code",
   "execution_count": 47,
   "metadata": {
    "colab": {
     "base_uri": "https://localhost:8080/"
    },
    "id": "qjJyalzPh6sZ",
    "outputId": "e89fa2c9-eb45-4d90-b54c-b57c9bbcb6c1"
   },
   "outputs": [
    {
     "data": {
      "text/plain": [
       "['austen-emma.txt',\n",
       " 'austen-persuasion.txt',\n",
       " 'austen-sense.txt',\n",
       " 'bible-kjv.txt',\n",
       " 'blake-poems.txt',\n",
       " 'bryant-stories.txt',\n",
       " 'burgess-busterbrown.txt',\n",
       " 'carroll-alice.txt',\n",
       " 'chesterton-ball.txt',\n",
       " 'chesterton-brown.txt',\n",
       " 'chesterton-thursday.txt',\n",
       " 'edgeworth-parents.txt',\n",
       " 'melville-moby_dick.txt',\n",
       " 'milton-paradise.txt',\n",
       " 'shakespeare-caesar.txt',\n",
       " 'shakespeare-hamlet.txt',\n",
       " 'shakespeare-macbeth.txt',\n",
       " 'whitman-leaves.txt']"
      ]
     },
     "execution_count": 47,
     "metadata": {},
     "output_type": "execute_result"
    }
   ],
   "source": [
    "from nltk.corpus import gutenberg\n",
    "gutenberg.fileids()"
   ]
  },
  {
   "cell_type": "code",
   "execution_count": 49,
   "metadata": {
    "colab": {
     "base_uri": "https://localhost:8080/"
    },
    "id": "cW5y8sfTiFA6",
    "outputId": "37eac185-2e17-4375-f47b-2bfd09296ff1"
   },
   "outputs": [
    {
     "data": {
      "text/plain": [
       "['[', 'The', 'Tragedie', 'of', 'Julius', 'Caesar', ...]"
      ]
     },
     "execution_count": 49,
     "metadata": {},
     "output_type": "execute_result"
    }
   ],
   "source": [
    "shakespearecaesar = gutenberg.words('shakespeare-caesar.txt')\n",
    "shakespearecaesar"
   ]
  },
  {
   "cell_type": "code",
   "execution_count": 50,
   "metadata": {
    "colab": {
     "base_uri": "https://localhost:8080/"
    },
    "id": "Cf4le60FiNPD",
    "outputId": "6a935919-03e4-4fe8-b577-e7176e6b3658"
   },
   "outputs": [
    {
     "data": {
      "text/plain": [
       "2621613"
      ]
     },
     "execution_count": 50,
     "metadata": {},
     "output_type": "execute_result"
    }
   ],
   "source": [
    "len(gutenberg.words())"
   ]
  },
  {
   "cell_type": "markdown",
   "metadata": {
    "id": "uGt4rFWejaws"
   },
   "source": [
    "### Webtext Corpus"
   ]
  },
  {
   "cell_type": "code",
   "execution_count": 56,
   "metadata": {},
   "outputs": [
    {
     "name": "stderr",
     "output_type": "stream",
     "text": [
      "[nltk_data] Downloading package webtext to\n",
      "[nltk_data]     C:\\Users\\saman\\AppData\\Roaming\\nltk_data...\n",
      "[nltk_data]   Unzipping corpora\\webtext.zip.\n"
     ]
    },
    {
     "data": {
      "text/plain": [
       "True"
      ]
     },
     "execution_count": 56,
     "metadata": {},
     "output_type": "execute_result"
    }
   ],
   "source": [
    "import nltk\n",
    "nltk.download('webtext')"
   ]
  },
  {
   "cell_type": "code",
   "execution_count": 57,
   "metadata": {
    "colab": {
     "base_uri": "https://localhost:8080/"
    },
    "id": "A6NzQxVdkHPj",
    "outputId": "f879088a-ecf2-4540-d311-5b91d4c10837"
   },
   "outputs": [
    {
     "data": {
      "text/plain": [
       "['firefox.txt',\n",
       " 'grail.txt',\n",
       " 'overheard.txt',\n",
       " 'pirates.txt',\n",
       " 'singles.txt',\n",
       " 'wine.txt']"
      ]
     },
     "execution_count": 57,
     "metadata": {},
     "output_type": "execute_result"
    }
   ],
   "source": [
    "from nltk.corpus import webtext\n",
    "webtext.fileids()"
   ]
  },
  {
   "cell_type": "code",
   "execution_count": 60,
   "metadata": {
    "colab": {
     "base_uri": "https://localhost:8080/"
    },
    "id": "oD9dEtpLkQx_",
    "outputId": "0d444074-a79b-4fa3-8a4c-4981feff0e2c"
   },
   "outputs": [
    {
     "data": {
      "text/plain": [
       "['PIRATES', 'OF', 'THE', 'CARRIBEAN', ':', 'DEAD', ...]"
      ]
     },
     "execution_count": 60,
     "metadata": {},
     "output_type": "execute_result"
    }
   ],
   "source": [
    "webtext.words('pirates.txt')"
   ]
  },
  {
   "cell_type": "code",
   "execution_count": 61,
   "metadata": {},
   "outputs": [
    {
     "data": {
      "text/plain": [
       "396733"
      ]
     },
     "execution_count": 61,
     "metadata": {},
     "output_type": "execute_result"
    }
   ],
   "source": [
    "len(webtext.words())"
   ]
  }
 ],
 "metadata": {
  "colab": {
   "collapsed_sections": [],
   "name": "DA1",
   "provenance": []
  },
  "kernelspec": {
   "display_name": "Python 3",
   "language": "python",
   "name": "python3"
  },
  "language_info": {
   "codemirror_mode": {
    "name": "ipython",
    "version": 3
   },
   "file_extension": ".py",
   "mimetype": "text/x-python",
   "name": "python",
   "nbconvert_exporter": "python",
   "pygments_lexer": "ipython3",
   "version": "3.8.5"
  }
 },
 "nbformat": 4,
 "nbformat_minor": 1
}
